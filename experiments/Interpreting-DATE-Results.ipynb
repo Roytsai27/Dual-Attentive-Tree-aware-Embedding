{
 "cells": [
  {
   "cell_type": "markdown",
   "metadata": {},
   "source": [
    "## How to interpret DATE results\n",
    "\n",
    "* Written by Yu-Che Tsai, Department of Statistics, National Cheng Kung University\n",
    "* Revised by Sundong Kim, Institute for Basic Science\n",
    "\n",
    "## Short Summary\n",
    "DATE first takes a set of leaf-node from the pre-trained XGBoost classifier as input. It then applies the attention mechanism by incorporating the ID embedding and HS6 code embedding. The attention mechanism was used to dynamically assign weights to each leaf-node(i.e., cross-features), leaf-nodes with a higher weights means it contribute more to our prediction results. After we trained DATE on a specific dataset, we could feed unseen data and observe the attention distribution to determine which cross-feature contributes more to our prediction.\n",
    "\n",
    "## Requirements\n",
    "* A trained XGBoost classifier, which should be saved after training (should be a .txt file).\n",
    "* A trained DATE model, saved with .pkl file. It should be saved as `../saved_models/DATE_0.xxxx.pkl`\n",
    "* leaf_index.pickle to be used for projecting leaf-index to tree structure.\n",
    "* Dataset to analysis could be either training data or test data.\n",
    "\n",
    "## Dataset\n",
    "* Synthetic dataset\n",
    "* Since we have already trained DATE with a set of training data, we only analyze the testing set in this notebook.\n",
    "\n",
    "## Guideline\n",
    "1. Load the pre-trained XGBoost Classifier to obtain the leaf-node(cross features).<br>\n",
    "2. Load the trained DATE model\n",
    "3. Convert the dataset into torch tensors \n",
    "4. Use DATE(data) to get prediction outputs\n",
    "4. Since Neural Networks in PyTorch are store in python **class** format, we could obtain attention weight by calling \"model.attention_w\" attribute. "
   ]
  },
  {
   "cell_type": "markdown",
   "metadata": {},
   "source": [
    "## Data preparation"
   ]
  },
  {
   "cell_type": "code",
   "execution_count": 1,
   "metadata": {},
   "outputs": [],
   "source": [
    "# load packages\n",
    "import pickle\n",
    "import numpy as np\n",
    "import torch\n",
    "import torch.utils.data as Data\n",
    "import pandas as pd \n",
    "import matplotlib.pyplot as plt \n",
    "import sys \n",
    "sys.path.append('..')\n",
    "from model.AttTreeEmbedding import Attention, FusionAttention, DATE"
   ]
  },
  {
   "cell_type": "code",
   "execution_count": 2,
   "metadata": {},
   "outputs": [],
   "source": [
    "# load preprocessed dataset\n",
    "with open(\"../processed_data.pickle\",\"rb\") as f:\n",
    "    processed = pickle.load(f)\n",
    "test = processed[\"raw\"][\"test\"]\n",
    "test = test.reset_index(drop=True) # raw data(test set)"
   ]
  },
  {
   "cell_type": "markdown",
   "metadata": {},
   "source": [
    "### Load DATE model and testing set with torch format\n",
    "Note that the torch_data.pickle file was created by generate_loader.py. <br>\n",
    "Since DATE is implemented pytorch, the input data for DATE should be converted into **torch.tensor**. <br>\n",
    "We use \"dataloader\" in torch to split test data into small batches to avoid memory error(out of memory)."
   ]
  },
  {
   "cell_type": "code",
   "execution_count": 3,
   "metadata": {},
   "outputs": [],
   "source": [
    "# load trained DATE model\n",
    "model = torch.load(\"../saved_models/DATE_0.1478.pkl\").module\n",
    "\n",
    "# load torch dataset \n",
    "with open(\"../torch_data.pickle\",\"rb\") as f:\n",
    "    data = pickle.load(f)\n",
    "test_dataset = data[\"test_dataset\"]\n",
    "\n",
    "# create dataloader\n",
    "batch_size = 128 # the data size per batch\n",
    "test_loader = Data.DataLoader( # Note that you could iterate dataloader with for loop to obtain batches\n",
    "    dataset=test_dataset,     \n",
    "    batch_size=batch_size,      \n",
    "    shuffle=False,               \n",
    ")"
   ]
  },
  {
   "cell_type": "markdown",
   "metadata": {},
   "source": [
    "### Obtain attention weights for each transaction\n",
    "Each transaction is given as the input for XGBoost model and output the **index** of leaf-nodes.<br>\n",
    "Therfore, if the XGBoost is built with N trees, there would be a list of N index from XGBoost.<br>\n",
    "Based on previous results, DATE further learns attentive weights for each leaf-node(cross-feature).<br>\n",
    "Therefore, there would be N attentive weights given a single transaction with it's corresponding leaf-nodes. Note that the summation of weights is equals 1."
   ]
  },
  {
   "cell_type": "code",
   "execution_count": 4,
   "metadata": {},
   "outputs": [],
   "source": [
    "attention_weight = [] # create a list to store attention weights for each transaction\n",
    "predicted_illicit_prob = []\n",
    "predicted_rev = []\n",
    "device = model.device # the device id of model and data should be consistant\n",
    "\n",
    "# iterate over test data\n",
    "for batch_feature,batch_user,batch_item,batch_cls,batch_reg in test_loader:\n",
    "    model.eval() # this line is to set the model for evaluation stage by stoping some parameters(e.g. dropout)\n",
    "    \n",
    "    # convert the data into same device as our model \n",
    "    batch_feature,batch_user,batch_item,batch_cls,batch_reg =  \\\n",
    "    batch_feature.to(device), batch_user.to(device), batch_item.to(device),\\\n",
    "     batch_cls.to(device), batch_reg.to(device)\n",
    "    batch_cls,batch_reg = batch_cls.view(-1,1), batch_reg.view(-1,1)\n",
    "\n",
    "    # model output\n",
    "    classification_output, regression_output, _ = model(batch_feature,batch_user,batch_item) # get the prediction output\n",
    "    \n",
    "    # convert torch.tensor to numpy array\n",
    "    classification_output = classification_output.detach().cpu().numpy()\n",
    "    regression_output = regression_output.detach().cpu().numpy()\n",
    "    att_w = model.attention_w.detach().cpu().numpy()\n",
    "    att_w = att_w.reshape(-1,100)\n",
    "    \n",
    "    attention_weight.extend(att_w.tolist())\n",
    "    predicted_illicit_prob.extend(classification_output.ravel().tolist())\n",
    "    predicted_rev.extend(regression_output.ravel().tolist())\n",
    "\n",
    "# conver python list to numpy array\n",
    "attention_weight = np.array(attention_weight)\n",
    "predicted_illicit_prob = np.array(predicted_illicit_prob)\n",
    "predicted_rev = np.array(predicted_rev)"
   ]
  },
  {
   "cell_type": "markdown",
   "metadata": {},
   "source": [
    "###  Averaged attention weight visualization\n",
    "After obtaining attention weights among all of the test set, we could average the weights and observe the distribution of weights."
   ]
  },
  {
   "cell_type": "code",
   "execution_count": 5,
   "metadata": {},
   "outputs": [
    {
     "data": {
      "image/png": "[encoded data removed]",
      "text/plain": [
       "<Figure size 432x288 with 1 Axes>"
      ]
     },
     "metadata": {
      "needs_background": "light"
     },
     "output_type": "display_data"
    }
   ],
   "source": [
    "plt.bar(range(100),attention_weight.mean(axis=0))\n",
    "plt.xlabel(\"Leaf node\")\n",
    "plt.ylabel(\"Weights\")\n",
    "plt.title(\"The averaged attentive weights among all transactions\")\n",
    "plt.show()"
   ]
  },
  {
   "cell_type": "markdown",
   "metadata": {},
   "source": [
    "## Sample transactions\n",
    "Due to the great amount of transactions, we sample 1 licit and 1 illicit transaction for demonstration."
   ]
  },
  {
   "cell_type": "code",
   "execution_count": 6,
   "metadata": {},
   "outputs": [
    {
     "name": "stdout",
     "output_type": "stream",
     "text": [
      "Index of sampled data: 2340\n"
     ]
    }
   ],
   "source": [
    "number_sampled = 1\n",
    "illicit_sample = test[test.illicit==1].sample(number_sampled,random_state=1) # sample from illicit samples\n",
    "transaction_id = illicit_sample.index[0] # get the index of sampled data\n",
    "print(\"Index of sampled data:\",transaction_id)"
   ]
  },
  {
   "cell_type": "code",
   "execution_count": 7,
   "metadata": {},
   "outputs": [
    {
     "data": {
      "text/html": [
       "<div>\n",
       "<style scoped>\n",
       "    .dataframe tbody tr th:only-of-type {\n",
       "        vertical-align: middle;\n",
       "    }\n",
       "\n",
       "    .dataframe tbody tr th {\n",
       "        vertical-align: top;\n",
       "    }\n",
       "\n",
       "    .dataframe thead th {\n",
       "        text-align: right;\n",
       "    }\n",
       "</style>\n",
       "<table border=\"1\" class=\"dataframe\">\n",
       "  <thead>\n",
       "    <tr style=\"text-align: right;\">\n",
       "      <th></th>\n",
       "      <th>sgd.id</th>\n",
       "      <th>sgd.date</th>\n",
       "      <th>importer.id</th>\n",
       "      <th>declarant.id</th>\n",
       "      <th>country</th>\n",
       "      <th>office.id</th>\n",
       "      <th>tariff.code</th>\n",
       "      <th>quantity</th>\n",
       "      <th>gross.weight</th>\n",
       "      <th>fob.value</th>\n",
       "      <th>...</th>\n",
       "      <th>RiskH.HS6.Origin</th>\n",
       "      <th>RiskH.tariff.code</th>\n",
       "      <th>RiskH.quantity</th>\n",
       "      <th>RiskH.HS6</th>\n",
       "      <th>RiskH.HS4</th>\n",
       "      <th>RiskH.HS2</th>\n",
       "      <th>RiskH.office.id</th>\n",
       "      <th>RiskH.office.id&amp;importer.id</th>\n",
       "      <th>RiskH.office.id&amp;HS6</th>\n",
       "      <th>RiskH.office.id&amp;country</th>\n",
       "    </tr>\n",
       "  </thead>\n",
       "  <tbody>\n",
       "    <tr>\n",
       "      <th>2340</th>\n",
       "      <td>SGD83019</td>\n",
       "      <td>13-11-08</td>\n",
       "      <td>IMP712264</td>\n",
       "      <td>DEC4546</td>\n",
       "      <td>CNTRY680</td>\n",
       "      <td>OFFICE59</td>\n",
       "      <td>8703331226</td>\n",
       "      <td>435</td>\n",
       "      <td>1602</td>\n",
       "      <td>2008</td>\n",
       "      <td>...</td>\n",
       "      <td>0</td>\n",
       "      <td>0</td>\n",
       "      <td>0</td>\n",
       "      <td>0</td>\n",
       "      <td>0</td>\n",
       "      <td>0</td>\n",
       "      <td>0</td>\n",
       "      <td>0</td>\n",
       "      <td>0</td>\n",
       "      <td>0</td>\n",
       "    </tr>\n",
       "  </tbody>\n",
       "</table>\n",
       "<p>1 rows × 41 columns</p>\n",
       "</div>"
      ],
      "text/plain": [
       "        sgd.id  sgd.date importer.id declarant.id   country office.id  \\\n",
       "2340  SGD83019  13-11-08   IMP712264      DEC4546  CNTRY680  OFFICE59   \n",
       "\n",
       "      tariff.code  quantity  gross.weight  fob.value  ...  RiskH.HS6.Origin  \\\n",
       "2340   8703331226       435          1602       2008  ...                 0   \n",
       "\n",
       "      RiskH.tariff.code  RiskH.quantity  RiskH.HS6  RiskH.HS4  RiskH.HS2  \\\n",
       "2340                  0               0          0          0          0   \n",
       "\n",
       "      RiskH.office.id  RiskH.office.id&importer.id  RiskH.office.id&HS6  \\\n",
       "2340                0                            0                    0   \n",
       "\n",
       "      RiskH.office.id&country  \n",
       "2340                        0  \n",
       "\n",
       "[1 rows x 41 columns]"
      ]
     },
     "execution_count": 7,
     "metadata": {},
     "output_type": "execute_result"
    }
   ],
   "source": [
    "illicit_sample"
   ]
  },
  {
   "cell_type": "markdown",
   "metadata": {},
   "source": [
    "### Take a look at the inspection information (Not available in Synthetic data)"
   ]
  },
  {
   "cell_type": "code",
   "execution_count": 9,
   "metadata": {},
   "outputs": [],
   "source": [
    "print(\"Checking the inspection information of sampled data\")\n",
    "print(\"-\"*52)\n",
    "for text in illicit_sample['INSPECTION.INFORMATION'].values:\n",
    "    print(text.strip())\n",
    "    print(\"-\"*52)"
   ]
  },
  {
   "cell_type": "markdown",
   "metadata": {},
   "source": [
    "## Analyze attention weight with XGBoost leaf-nodes"
   ]
  },
  {
   "cell_type": "code",
   "execution_count": 11,
   "metadata": {},
   "outputs": [],
   "source": [
    "# load leaf_index dictionary to project lead-id into XGBoost tree structure\n",
    "with open(\"../leaf_index.pickle\",\"rb\") as f:\n",
    "    leaf_index = pickle.load(f)"
   ]
  },
  {
   "cell_type": "code",
   "execution_count": 12,
   "metadata": {},
   "outputs": [
    {
     "name": "stdout",
     "output_type": "stream",
     "text": [
      "Prediction probability:0.0441\n",
      "Trees with the highest attention weights: [76 48 25 31 10]\n",
      "The corresponding index of the leaf node: [1171, 743, 388, 476, 157]\n",
      "The node id in the original XGBoost model: [{76: 21}, {48: 15}, {25: 23}, {31: 15}, {10: 15}]\n"
     ]
    }
   ],
   "source": [
    "# first, take a look at the prediction probability of the transaction\n",
    "print(\"Prediction probability:%.4f\" % predicted_illicit_prob[transaction_id])\n",
    "top_k = 5 # number of cross feature to observe (select top k)\n",
    "test_leaves = test_dataset.tensors[0].numpy() # the leaf index for all transactions\n",
    "tree_id = np.argsort(attention_weight[transaction_id])[-top_k:] # obtain which trees have the hightest weights\n",
    "print(\"Trees with the highest attention weights:\",tree_id)\n",
    "leaf_id = [test_leaves[transaction_id][i] for i in tree_id] # obtain the leaf-id for the trees\n",
    "print(\"The corresponding index of the leaf node:\",leaf_id)\n",
    "\n",
    "# transform the leaf index to the original XGBoost tree structure\n",
    "# Variable leaf_index is a dictionary with {leaf-id: {tree-id,node-id}}\n",
    "xgb_cross_feature = [leaf_index[l] for l in leaf_id] \n",
    "print(\"The node id in the original XGBoost model:\",xgb_cross_feature)"
   ]
  },
  {
   "cell_type": "code",
   "execution_count": 14,
   "metadata": {},
   "outputs": [
    {
     "name": "stdout",
     "output_type": "stream",
     "text": [
      "booster[0]:\n",
      "0:[RiskH.office.id&importer.id<0.5] yes=1,no=2,missing=1\n",
      "\t1:[RiskH.HS6.Origin<0.5] yes=3,no=4,missing=3\n",
      "\t\t3:[RiskH.office.id&HS6<0.5] yes=7,no=8,missing=7\n",
      "\t\t\t7:[RiskH.importer.id<0.5] yes=15,no=16,missing=15\n",
      "\t\t\t\t15:leaf=-0.190891355\n",
      "\t\t\t\t16:leaf=-0.133655965\n",
      "\t\t\t8:[RiskH.importer.id<0.5] yes=17,no=18,missing=17\n",
      "\t\t\t\t17:leaf=-0.10510204\n",
      "\t\t\t\t18:leaf=0.0617283955\n",
      "\t\t4:[tariff.code<8.70200115e+09] yes=9,no=10,missing=9\n",
      "\t\t\t9:[gross.weight<193616.5] yes=19,no=20,missing=19\n",
      "\t\t\t\t19:leaf=0.16952841\n",
      "\t\t\t\t20:leaf=-0.0300000012\n",
      "\t\t\t10:[RiskH.importer.id<0.5] yes=21,no=22,missing=21\n",
      "\t\t\t\t21:leaf=-0.105105102\n",
      "\t\t\t\t22:leaf=0.0823529437\n",
      "\t2:[gross.weight<182429.5] yes=5,no=6,missing=5\n",
      "\t\t5:[tariff.code<8.70200115e+09] yes=11,no=12,missing=11\n",
      "\t\t\t11:[quantity<8227] yes=23,no=24,missing=23\n",
      "\t\t\t\t23:leaf=0.184650645\n",
      "\t\t\t\t24:leaf=-0.0133333346\n",
      "\t\t\t12:[RiskH.quantity<0.5] yes=25,no=26,missing=25\n",
      "\t\t\t\t25:leaf=0.0363143645\n",
      "\t\t\t\t26:leaf=0.166878983\n",
      "\t\t6:[RiskH.quantity<0.5] yes=13,no=14,missing=13\n",
      "\t\t\t13:[RiskH.office.id&HS6<0.5] \n"
     ]
    }
   ],
   "source": [
    "# read the contents of the file\n",
    "with open('../xgb_model.txt', 'r') as f:\n",
    "    txt_model = f.read()\n",
    "\n",
    "# Note: To maintain the clearness, only print the result for the first tree. Please print the whole text data when analyzing by yourself\n",
    "print(txt_model[:1015]) "
   ]
  },
  {
   "cell_type": "markdown",
   "metadata": {},
   "source": [
    "## Extract dicision path\n",
    "From the previous cell, we could see that the tree structure is revealed. \"**booster[id]**\" denotes the tree id and follows with it's node id of each leaf-node.<br>\n",
    "We have already obtain the leaf-node and their tree-id is [{76: 21}, {48: 15}, {25: 23}, {31: 15}, {10: 15}].<br>\n",
    "Therefore, we would have decision paths for each leaf-node regrarding to the text file."
   ]
  },
  {
   "cell_type": "markdown",
   "metadata": {},
   "source": [
    "* Prediction probability:0.0441\n",
    "* Trees with the highest attention weights: [76 48 25 31 10]\n",
    "* The corresponding index of the leaf node: [1171, 743, 388, 476, 157]\n",
    "* The node id in the original XGBoost model: [{76: 21}, {48: 15}, {25: 23}, {31: 15}, {10: 15}]"
   ]
  },
  {
   "cell_type": "markdown",
   "metadata": {},
   "source": [
    "### Decision Paths\n",
    "* Leaf_id: 1171, Tree id: 76, Node id: 21 <br>\n",
    "path: [0→1→4→10→21] <br>\n",
    "cross feature: RiskH.importer.id<0.5 | gross.weight>=1068.5 | total.taxes>=340.5 | gross.weight<2078.5\n",
    "\n",
    "* Leaf_id: 743, Tree id: 48, Node id: 15 <br>\n",
    "path: [0→1→3→7→15] <br>\n",
    "cross feature: RiskH.office.id&importer.id<0.5 | RiskH.tariff.code<0.5 | RiskH.quantity<0.5 | quantity<2390.5\n",
    "\n",
    "* Leaf_id: 388, Tree id: 25, Node id: 23 <br>\n",
    "path: [0→2→5→11→23] <br>\n",
    "cross feature: tariff.code>=8.50630093e+09 | tariff.code<8.7046103e+09 | RiskH.office.id&country<0.5 | RiskH.declarant.id<0.5 \n",
    "\n",
    "* Leaf_id: 476, Tree id: 31, Node id: 15 <br>\n",
    "path: [0→1→3→7→15] <br>\n",
    "cross feature: RiskH.quantity<0.5 | RiskH.HS6.Origin<0.5 | RiskH.declarant.id<0.5 | RiskH.HS2<0.5\n",
    "\n",
    "* Leaf_id: 157, Tree id: 10, Node id: 15 <br>\n",
    "path: [0→1→3→7→15] <br>\n",
    "cross feature: RiskH.office.id&importer.id<0.5 | RiskH.HS6.Origin<0.5 | RiskH.importer.id<0.5 | RiskH.office.id&HS6<0.5"
   ]
  }
 ],
 "metadata": {
  "kernelspec": {
   "display_name": "Python 3",
   "language": "python",
   "name": "python3"
  },
  "language_info": {
   "codemirror_mode": {
    "name": "ipython",
    "version": 3
   },
   "file_extension": ".py",
   "mimetype": "text/x-python",
   "name": "python",
   "nbconvert_exporter": "python",
   "pygments_lexer": "ipython3",
   "version": "3.7.6"
  }
 },
 "nbformat": 4,
 "nbformat_minor": 2
}
