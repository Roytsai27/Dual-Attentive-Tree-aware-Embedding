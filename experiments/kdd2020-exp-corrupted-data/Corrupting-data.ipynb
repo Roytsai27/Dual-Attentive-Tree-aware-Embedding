{
 "cells": [
  {
   "cell_type": "code",
   "execution_count": 8,
   "metadata": {},
   "outputs": [],
   "source": [
    "import numpy as np\n",
    "import pandas as pd\n",
    "import pickle\n",
    "import random\n",
    "import matplotlib.pyplot as plt"
   ]
  },
  {
   "cell_type": "code",
   "execution_count": 4,
   "metadata": {},
   "outputs": [],
   "source": [
    "df = pd.read_csv('../../../../../Sharedfolder/Ndata.merged.anonymized.single.relabeled.csv', encoding = \"ISO-8859-1\")\n",
    "df = df.dropna(subset=[\"illicit\"])"
   ]
  },
  {
   "cell_type": "code",
   "execution_count": 9,
   "metadata": {},
   "outputs": [],
   "source": [
    "df = df.dropna(subset=['FOB.VALUE'])"
   ]
  },
  {
   "cell_type": "code",
   "execution_count": 12,
   "metadata": {},
   "outputs": [
    {
     "data": {
      "text/plain": [
       "Text(0, 0.5, '# of transactions (pdf)')"
      ]
     },
     "execution_count": 12,
     "metadata": {},
     "output_type": "execute_result"
    },
    {
     "data": {
      "image/png": "[encoded data removed]",
      "text/plain": [
       "<Figure size 432x288 with 1 Axes>"
      ]
     },
     "metadata": {
      "needs_background": "light"
     },
     "output_type": "display_data"
    }
   ],
   "source": [
    "import seaborn as sns\n",
    "sns.distplot(df[df.illicit == 0]['FOB.VALUE'].apply(np.log10))\n",
    "sns.distplot(df[df.illicit == 1]['FOB.VALUE'].apply(np.log10))\n",
    "plt.tick_params(axis='both', labelsize=20)\n",
    "plt.xlabel('FOB.VALUE', fontsize=20)\n",
    "plt.ylabel('# of transactions (pdf)', fontsize=20)"
   ]
  },
  {
   "cell_type": "code",
   "execution_count": null,
   "metadata": {},
   "outputs": [],
   "source": []
  },
  {
   "cell_type": "code",
   "execution_count": 3,
   "metadata": {
    "scrolled": true
   },
   "outputs": [
    {
     "data": {
      "text/plain": [
       "Index(['YEAR', 'OFFICE', 'SGD.NUMBER', 'SGD.DATE', 'RECEIPT.NUMBER',\n",
       "       'RECEIPT.DATE', 'IMPORTER.TIN', 'DECLARANT.CODE', 'FOB.VALUE',\n",
       "       'CIF.VALUE', 'TARIFF.CODE', 'TARIFF.DESCRIPTION', 'QUANTITY',\n",
       "       'TOTAL.TAXES', 'GROSS.WEIGHT', 'INSPECTION.INFORMATION',\n",
       "       'SELECTIVITY.LANE', 'EXCHANGERATE', 'CIF_USD_EQUIVALENT', 'illicit',\n",
       "       'ISO3', 'RAISED_TAX_AMOUNT'],\n",
       "      dtype='object')"
      ]
     },
     "execution_count": 3,
     "metadata": {},
     "output_type": "execute_result"
    }
   ],
   "source": [
    "df.columns"
   ]
  },
  {
   "cell_type": "code",
   "execution_count": 4,
   "metadata": {},
   "outputs": [
    {
     "name": "stdout",
     "output_type": "stream",
     "text": [
      "illicit\n",
      "0    9.386096e+06\n",
      "1    1.559226e+07\n",
      "Name: FOB.VALUE, dtype: float64\n"
     ]
    },
    {
     "data": {
      "text/plain": [
       "(0.6019714969711725, 1.6612082217040394)"
      ]
     },
     "execution_count": 4,
     "metadata": {},
     "output_type": "execute_result"
    }
   ],
   "source": [
    "stats = df.groupby(['illicit'])['FOB.VALUE'].apply(np.mean)\n",
    "print(stats)\n",
    "stats[0] / stats[1], stats[1] / stats[0]"
   ]
  },
  {
   "cell_type": "code",
   "execution_count": 5,
   "metadata": {},
   "outputs": [
    {
     "name": "stdout",
     "output_type": "stream",
     "text": [
      "illicit\n",
      "0    1.078793e+07\n",
      "1    1.802776e+07\n",
      "Name: CIF.VALUE, dtype: float64\n"
     ]
    },
    {
     "data": {
      "text/plain": [
       "0.5984067736760245"
      ]
     },
     "execution_count": 5,
     "metadata": {},
     "output_type": "execute_result"
    }
   ],
   "source": [
    "stats = df.groupby(['illicit'])['CIF.VALUE'].apply(np.mean)\n",
    "print(stats)\n",
    "stats[0] / stats[1]"
   ]
  },
  {
   "cell_type": "code",
   "execution_count": 6,
   "metadata": {},
   "outputs": [
    {
     "name": "stdout",
     "output_type": "stream",
     "text": [
      "illicit\n",
      "0    1.564607e+06\n",
      "1    2.548458e+06\n",
      "Name: TOTAL.TAXES, dtype: float64\n"
     ]
    },
    {
     "data": {
      "text/plain": [
       "0.6139427926597609"
      ]
     },
     "execution_count": 6,
     "metadata": {},
     "output_type": "execute_result"
    }
   ],
   "source": [
    "stats = df.groupby(['illicit'])['TOTAL.TAXES'].apply(np.mean)\n",
    "print(stats)\n",
    "stats[0] / stats[1]"
   ]
  },
  {
   "cell_type": "code",
   "execution_count": 13,
   "metadata": {},
   "outputs": [],
   "source": [
    "def noiseby10percent(df, transaction_rate, noise_proportion):\n",
    "    indices = np.random.choice(len(df), int(len(df)*transaction_rate), replace=False)\n",
    "    before = np.sum(df.loc[indices, 'CIF.VALUE'])\n",
    "    df.loc[indices, 'CIF.VALUE'] = df.loc[indices, 'CIF.VALUE'] * noise_proportion\n",
    "    df.loc[indices, 'FOB.VALUE'] = df.loc[indices, 'FOB.VALUE'] * noise_proportion\n",
    "    df.loc[indices, 'TOTAL.TAXES'] = df.loc[indices, 'TOTAL.TAXES'] * noise_proportion\n",
    "    after = np.sum(df.loc[indices, 'CIF.VALUE'])\n",
    "    print(before, after)\n",
    "    return df\n",
    "\n",
    "def adjust_illicit_val_deterministic(df, roll_back_constant):\n",
    "    indices = list(df[df['illicit'] == 1].index)\n",
    "    before = np.sum(df.loc[indices, 'CIF.VALUE'])\n",
    "    df.loc[indices, 'CIF.VALUE'] = df.loc[indices, 'CIF.VALUE'] * roll_back_constant\n",
    "    df.loc[indices, 'FOB.VALUE'] = df.loc[indices, 'FOB.VALUE'] * roll_back_constant\n",
    "    df.loc[indices, 'TOTAL.TAXES'] = df.loc[indices, 'TOTAL.TAXES'] * roll_back_constant\n",
    "    after = np.sum(df.loc[indices, 'CIF.VALUE'])\n",
    "    print(before, after)\n",
    "    return df\n",
    "\n",
    "def adjust_illicit_val_stochastic(df, roll_back_constant):\n",
    "    indices = list(df[df['illicit'] == 1].index)\n",
    "    before = np.sum(df.loc[indices, 'CIF.VALUE'])\n",
    "    roll_back_proportion = np.random.normal(loc=roll_back_constant, scale=0.1, size=len(df.loc[indices, 'CIF.VALUE']))\n",
    "    df.loc[indices, 'CIF.VALUE'] = df.loc[indices, 'CIF.VALUE'] * roll_back_proportion\n",
    "    df.loc[indices, 'FOB.VALUE'] = df.loc[indices, 'FOB.VALUE'] * roll_back_proportion\n",
    "    df.loc[indices, 'TOTAL.TAXES'] = df.loc[indices, 'TOTAL.TAXES'] * roll_back_proportion\n",
    "    after = np.sum(df.loc[indices, 'CIF.VALUE'])\n",
    "    print(before, after)\n",
    "    return df"
   ]
  },
  {
   "cell_type": "code",
   "execution_count": 10,
   "metadata": {},
   "outputs": [
    {
     "name": "stdout",
     "output_type": "stream",
     "text": [
      "1339156077187.0 800280703022.63\n",
      "rollback-stochastic illicit\n",
      "0    1.078793e+07\n",
      "1    1.077340e+07\n",
      "Name: CIF.VALUE, dtype: float64\n",
      "rollback-stochastic illicit\n",
      "0    1.078793e+07\n",
      "1    1.077340e+07\n",
      "Name: CIF.VALUE, dtype: float64\n",
      "1339156077187.0 801360067598.1139\n",
      "rollback-deterministic illicit\n",
      "0    1.078793e+07\n",
      "1    1.078793e+07\n",
      "Name: CIF.VALUE, dtype: float64\n",
      "rollback-deterministic illicit\n",
      "0    1.078793e+07\n",
      "1    1.078793e+07\n",
      "Name: CIF.VALUE, dtype: float64\n"
     ]
    }
   ],
   "source": [
    "import pickle\n",
    "\n",
    "for method in ['rollback-stochastic', 'rollback-deterministic']:\n",
    "    \n",
    "    df = pd.read_csv('../../../../../Sharedfolder/Ndata.merged.anonymized.single.relabeled.csv', encoding = \"ISO-8859-1\")\n",
    "    df = df.dropna(subset=[\"illicit\"])\n",
    "    \n",
    "    stats = df.groupby(['illicit'])['CIF.VALUE'].apply(np.mean)\n",
    "    roll_back_constant = stats[0] / stats[1]\n",
    "        \n",
    "    if method == 'rollback-stochastic':\n",
    "        df = adjust_illicit_val_stochastic(df, roll_back_constant)\n",
    "        print(method, df.groupby(['illicit'])['CIF.VALUE'].apply(np.mean))\n",
    "    if method == 'rollback-deterministic':\n",
    "        df = adjust_illicit_val_deterministic(df, roll_back_constant)\n",
    "        print(method, df.groupby(['illicit'])['CIF.VALUE'].apply(np.mean))\n",
    "    \n",
    "    file_path = f'./data/Ndata.merged.anonymized.single.relabeled.{method}.p'\n",
    "    df.to_pickle(file_path)\n",
    "    \n",
    "    df = pd.read_pickle(file_path)\n",
    "    print(method, df.groupby(['illicit'])['CIF.VALUE'].apply(np.mean))"
   ]
  },
  {
   "cell_type": "code",
   "execution_count": 20,
   "metadata": {},
   "outputs": [],
   "source": [
    "df = pd.read_pickle('./data/Ndata.merged.anonymized.single.relabeled.rollback-stochastic.p')"
   ]
  },
  {
   "cell_type": "code",
   "execution_count": 21,
   "metadata": {},
   "outputs": [],
   "source": [
    "df = df.dropna(subset=['FOB.VALUE'])"
   ]
  },
  {
   "cell_type": "code",
   "execution_count": 31,
   "metadata": {},
   "outputs": [
    {
     "data": {
      "text/plain": [
       "Text(0, 0.5, '# of transactions (pdf)')"
      ]
     },
     "execution_count": 31,
     "metadata": {},
     "output_type": "execute_result"
    },
    {
     "data": {
      "image/png": "[encoded data removed]",
      "text/plain": [
       "<Figure size 432x288 with 1 Axes>"
      ]
     },
     "metadata": {
      "needs_background": "light"
     },
     "output_type": "display_data"
    }
   ],
   "source": [
    "import seaborn as sns\n",
    "sns.distplot(df[df.illicit == 0]['FOB.VALUE'].apply(np.log10))\n",
    "sns.distplot(df[df.illicit == 1]['FOB.VALUE'].apply(np.log10))\n",
    "plt.tick_params(axis='both', labelsize=20)\n",
    "plt.xlabel('FOB.VALUE', fontsize=20)\n",
    "plt.ylabel('# of transactions (pdf)', fontsize=20)"
   ]
  },
  {
   "cell_type": "code",
   "execution_count": 30,
   "metadata": {},
   "outputs": [
    {
     "data": {
      "text/plain": [
       "illicit\n",
       "0    9.386096e+06\n",
       "1    9.318851e+06\n",
       "Name: FOB.VALUE, dtype: float64"
      ]
     },
     "execution_count": 30,
     "metadata": {},
     "output_type": "execute_result"
    }
   ],
   "source": [
    "df.groupby(['illicit'])['FOB.VALUE'].apply(np.mean)\n"
   ]
  },
  {
   "cell_type": "code",
   "execution_count": null,
   "metadata": {},
   "outputs": [],
   "source": []
  },
  {
   "cell_type": "code",
   "execution_count": null,
   "metadata": {},
   "outputs": [],
   "source": []
  },
  {
   "cell_type": "code",
   "execution_count": null,
   "metadata": {},
   "outputs": [],
   "source": []
  },
  {
   "cell_type": "code",
   "execution_count": null,
   "metadata": {},
   "outputs": [],
   "source": []
  },
  {
   "cell_type": "code",
   "execution_count": null,
   "metadata": {},
   "outputs": [],
   "source": []
  },
  {
   "cell_type": "code",
   "execution_count": null,
   "metadata": {},
   "outputs": [],
   "source": []
  },
  {
   "cell_type": "code",
   "execution_count": null,
   "metadata": {},
   "outputs": [],
   "source": []
  },
  {
   "cell_type": "code",
   "execution_count": null,
   "metadata": {},
   "outputs": [],
   "source": []
  }
 ],
 "metadata": {
  "kernelspec": {
   "display_name": "Python 3",
   "language": "python",
   "name": "python3"
  },
  "language_info": {
   "codemirror_mode": {
    "name": "ipython",
    "version": 3
   },
   "file_extension": ".py",
   "mimetype": "text/x-python",
   "name": "python",
   "nbconvert_exporter": "python",
   "pygments_lexer": "ipython3",
   "version": "3.7.5"
  }
 },
 "nbformat": 4,
 "nbformat_minor": 2
}
